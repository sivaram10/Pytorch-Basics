{
 "cells": [
  {
   "cell_type": "code",
   "execution_count": 1,
   "metadata": {
    "collapsed": true
   },
   "outputs": [],
   "source": [
    "from __future__ import print_function\n",
    "import torch\n",
    "import matplotlib.pyplot as plt\n",
    "import numpy as np\n",
    "from torch.autograd import Variable\n",
    "from torchvision import datasets, transforms"
   ]
  },
  {
   "cell_type": "code",
   "execution_count": 2,
   "metadata": {
    "collapsed": true
   },
   "outputs": [],
   "source": [
    "batch_size = 64"
   ]
  },
  {
   "cell_type": "code",
   "execution_count": 3,
   "metadata": {
    "collapsed": true
   },
   "outputs": [],
   "source": [
    "train_datset = datasets.MNIST(root='./mnist_data',\n",
    "                             train=True,\n",
    "                             transform=transforms.ToTensor())"
   ]
  },
  {
   "cell_type": "code",
   "execution_count": 6,
   "metadata": {},
   "outputs": [],
   "source": [
    "test_dataset = datasets.MNIST(root='./mnist_data',\n",
    "                             train=False,\n",
    "                             transform=transforms.ToTensor())"
   ]
  },
  {
   "cell_type": "code",
   "execution_count": 7,
   "metadata": {
    "collapsed": true
   },
   "outputs": [],
   "source": [
    "train_loader = torch.utils.data.DataLoader(dataset=train_datset,\n",
    "                                          batch_size=batch_size,\n",
    "                                          shuffle=True)"
   ]
  },
  {
   "cell_type": "code",
   "execution_count": 8,
   "metadata": {
    "collapsed": true
   },
   "outputs": [],
   "source": [
    "test_loader = torch.utils.data.DataLoader(dataset=test_dataset,\n",
    "                                         batch_size=batch_size,\n",
    "                                         shuffle=False)"
   ]
  },
  {
   "cell_type": "code",
   "execution_count": 9,
   "metadata": {
    "collapsed": true
   },
   "outputs": [],
   "source": [
    "class SimpleInception(torch.nn.Module):\n",
    "    \n",
    "    def __init__(self, in_channels):\n",
    "        super(SimpleInception, self).__init__()\n",
    "        self.branch1x1 = torch.nn.Conv2d(in_channels, 16, kernel_size=1)\n",
    "        \n",
    "        self.branch5x5_1 = torch.nn.Conv2d(in_channels, 16, kernel_size=1)\n",
    "        self.branch5x5_2 = torch.nn.Conv2d(16, 24, kernel_size=5, padding=2)\n",
    "        \n",
    "        self.branch3x3dbl_1 = torch.nn.Conv2d(in_channels, 16, kernel_size=1)\n",
    "        self.branch3x3dbl_2 = torch.nn.Conv2d(16, 24, kernel_size=3, padding=1)\n",
    "        self.branch3x3dbl_3 = torch.nn.Conv2d(24, 24, kernel_size=3, padding=1)\n",
    "        \n",
    "        self.branch_pool = torch.nn.Conv2d(in_channels, 24, kernel_size=1)\n",
    "        \n",
    "    def forward(self, x):\n",
    "        branch1x1 = self.branch1x1(x)\n",
    "        \n",
    "        branch5x5 = self.branch5x5_1(x)\n",
    "        branch5x5 = self.branch5x5_2(branch5x5)\n",
    "        \n",
    "        branch3x3dbl = self.branch3x3dbl_1(x)\n",
    "        branch3x3dbl = self.branch3x3dbl_2(branch3x3dbl)\n",
    "        branch3x3dbl = self.branch3x3dbl_3(branch3x3dbl)\n",
    "        \n",
    "        branch_pool = torch.nn.functional.avg_pool2d(x, kernel_size=3, stride=1, padding=1)\n",
    "        branch_pool = self.branch_pool(branch_pool)\n",
    "        \n",
    "        outputs = [branch1x1, branch5x5, branch3x3dbl, branch_pool]\n",
    "        return torch.cat(outputs, 1)"
   ]
  },
  {
   "cell_type": "code",
   "execution_count": 19,
   "metadata": {
    "collapsed": true
   },
   "outputs": [],
   "source": [
    "class NNet(torch.nn.Module):\n",
    "    \n",
    "    def __init__(self):\n",
    "        super(NNet, self).__init__()\n",
    "        \n",
    "        self.conv1 = torch.nn.Conv2d(1, 10, kernel_size=5)\n",
    "        self.conv2 = torch.nn.Conv2d(88, 20, kernel_size=5)\n",
    "        \n",
    "        self.inception1 = SimpleInception(in_channels=10)\n",
    "        self.inception2 = SimpleInception(in_channels=20)\n",
    "        \n",
    "        self.mp = torch.nn.MaxPool2d(2)\n",
    "        self.fc = torch.nn.Linear(1408, 10)\n",
    "        \n",
    "    def forward(self, x):\n",
    "        in_size = x.size(0)\n",
    "        x = torch.nn.functional.relu(self.mp(self.conv1(x)))\n",
    "        x = self.inception1(x)\n",
    "        x = torch.nn.functional.relu(self.mp(self.conv2(x)))\n",
    "        x = self.inception2(x)\n",
    "        x = x.view(in_size, -1)\n",
    "        x = self.fc(x)\n",
    "        return torch.nn.functional.log_softmax(x)"
   ]
  },
  {
   "cell_type": "code",
   "execution_count": 20,
   "metadata": {},
   "outputs": [],
   "source": [
    "model = NNet()"
   ]
  },
  {
   "cell_type": "code",
   "execution_count": 21,
   "metadata": {},
   "outputs": [],
   "source": [
    "optimizer = torch.optim.SGD(model.parameters(), lr=0.01, momentum=0.5)"
   ]
  },
  {
   "cell_type": "code",
   "execution_count": 25,
   "metadata": {
    "collapsed": true
   },
   "outputs": [],
   "source": [
    "def train(epoch):\n",
    "    model.train()\n",
    "    for batch_idx, (data, target) in enumerate(train_loader):\n",
    "        data, target = Variable(data), Variable(target)\n",
    "        optimizer.zero_grad()\n",
    "        output = model(data)\n",
    "        loss = torch.nn.functional.nll_loss(output, target)\n",
    "        loss.backward()\n",
    "        optimizer.step()\n",
    "        if batch_idx % 100 == 0:\n",
    "            print('Train Epoch: {} [{}/{} ({:.0f}%)]\\tLoss: {:.6f}'.format(\n",
    "                epoch, batch_idx * len(data), len(train_loader.dataset),\n",
    "                100. * batch_idx / len(train_loader), loss.data[0]))"
   ]
  },
  {
   "cell_type": "code",
   "execution_count": 26,
   "metadata": {
    "collapsed": true
   },
   "outputs": [],
   "source": [
    "def test():\n",
    "    model.eval()\n",
    "    test_loss = 0\n",
    "    correct = 0\n",
    "    for data, target in test_loader:\n",
    "        data, target = Variable(data, volatile=True), Variable(target)\n",
    "        output = model(data)\n",
    "        test_loss += torch.nn.functional.nll_loss(output, target, size_average=False).data[0]\n",
    "        pred = output.data.max(1, keepdim=True)[1]\n",
    "        correct += pred.eq(target.data.view_as(pred)).cpu().sum()\n",
    "\n",
    "    test_loss /= len(test_loader.dataset)\n",
    "    print('\\nTest set: Average loss: {:.4f}, Accuracy: {}/{} ({:.0f}%)\\n'.format(\n",
    "        test_loss, correct, len(test_loader.dataset),\n",
    "        100. * correct / len(test_loader.dataset)))"
   ]
  },
  {
   "cell_type": "code",
   "execution_count": null,
   "metadata": {},
   "outputs": [
    {
     "name": "stdout",
     "output_type": "stream",
     "text": [
      "Train Epoch: 1 [0/60000 (0%)]\tLoss: 2.309072\n",
      "Train Epoch: 1 [6400/60000 (11%)]\tLoss: 2.287190\n",
      "Train Epoch: 1 [12800/60000 (21%)]\tLoss: 2.116315\n",
      "Train Epoch: 1 [19200/60000 (32%)]\tLoss: 0.680324\n",
      "Train Epoch: 1 [25600/60000 (43%)]\tLoss: 0.368239\n",
      "Train Epoch: 1 [32000/60000 (53%)]\tLoss: 0.504674\n",
      "Train Epoch: 1 [38400/60000 (64%)]\tLoss: 0.389219\n",
      "Train Epoch: 1 [44800/60000 (75%)]\tLoss: 0.283463\n",
      "Train Epoch: 1 [51200/60000 (85%)]\tLoss: 0.325551\n",
      "Train Epoch: 1 [57600/60000 (96%)]\tLoss: 0.230101\n",
      "\n",
      "Test set: Average loss: 0.1871, Accuracy: 9411/10000 (94%)\n",
      "\n",
      "Train Epoch: 2 [0/60000 (0%)]\tLoss: 0.086404\n",
      "Train Epoch: 2 [6400/60000 (11%)]\tLoss: 0.111793\n",
      "Train Epoch: 2 [12800/60000 (21%)]\tLoss: 0.144683\n",
      "Train Epoch: 2 [19200/60000 (32%)]\tLoss: 0.183078\n",
      "Train Epoch: 2 [25600/60000 (43%)]\tLoss: 0.255718\n",
      "Train Epoch: 2 [32000/60000 (53%)]\tLoss: 0.220983\n",
      "Train Epoch: 2 [38400/60000 (64%)]\tLoss: 0.057798\n",
      "Train Epoch: 2 [44800/60000 (75%)]\tLoss: 0.104173\n",
      "Train Epoch: 2 [51200/60000 (85%)]\tLoss: 0.118954\n",
      "Train Epoch: 2 [57600/60000 (96%)]\tLoss: 0.082541\n",
      "\n",
      "Test set: Average loss: 0.1073, Accuracy: 9657/10000 (97%)\n",
      "\n",
      "Train Epoch: 3 [0/60000 (0%)]\tLoss: 0.062436\n",
      "Train Epoch: 3 [6400/60000 (11%)]\tLoss: 0.112717\n",
      "Train Epoch: 3 [12800/60000 (21%)]\tLoss: 0.080273\n",
      "Train Epoch: 3 [19200/60000 (32%)]\tLoss: 0.293644\n",
      "Train Epoch: 3 [25600/60000 (43%)]\tLoss: 0.173888\n",
      "Train Epoch: 3 [32000/60000 (53%)]\tLoss: 0.077323\n",
      "Train Epoch: 3 [38400/60000 (64%)]\tLoss: 0.175580\n",
      "Train Epoch: 3 [44800/60000 (75%)]\tLoss: 0.144660\n",
      "Train Epoch: 3 [51200/60000 (85%)]\tLoss: 0.086890\n",
      "Train Epoch: 3 [57600/60000 (96%)]\tLoss: 0.153698\n",
      "\n",
      "Test set: Average loss: 0.0770, Accuracy: 9751/10000 (98%)\n",
      "\n",
      "Train Epoch: 4 [0/60000 (0%)]\tLoss: 0.123819\n",
      "Train Epoch: 4 [6400/60000 (11%)]\tLoss: 0.048526\n",
      "Train Epoch: 4 [12800/60000 (21%)]\tLoss: 0.089376\n",
      "Train Epoch: 4 [19200/60000 (32%)]\tLoss: 0.050470\n",
      "Train Epoch: 4 [25600/60000 (43%)]\tLoss: 0.063491\n",
      "Train Epoch: 4 [32000/60000 (53%)]\tLoss: 0.122662\n",
      "Train Epoch: 4 [38400/60000 (64%)]\tLoss: 0.040630\n",
      "Train Epoch: 4 [44800/60000 (75%)]\tLoss: 0.117883\n",
      "Train Epoch: 4 [51200/60000 (85%)]\tLoss: 0.232080\n",
      "Train Epoch: 4 [57600/60000 (96%)]\tLoss: 0.157686\n",
      "\n",
      "Test set: Average loss: 0.0730, Accuracy: 9748/10000 (97%)\n",
      "\n",
      "Train Epoch: 5 [0/60000 (0%)]\tLoss: 0.143576\n",
      "Train Epoch: 5 [6400/60000 (11%)]\tLoss: 0.014912\n",
      "Train Epoch: 5 [12800/60000 (21%)]\tLoss: 0.127966\n",
      "Train Epoch: 5 [19200/60000 (32%)]\tLoss: 0.029826\n",
      "Train Epoch: 5 [25600/60000 (43%)]\tLoss: 0.091351\n",
      "Train Epoch: 5 [32000/60000 (53%)]\tLoss: 0.120121\n",
      "Train Epoch: 5 [38400/60000 (64%)]\tLoss: 0.095033\n",
      "Train Epoch: 5 [44800/60000 (75%)]\tLoss: 0.166595\n",
      "Train Epoch: 5 [51200/60000 (85%)]\tLoss: 0.090779\n",
      "Train Epoch: 5 [57600/60000 (96%)]\tLoss: 0.074822\n",
      "\n",
      "Test set: Average loss: 0.0633, Accuracy: 9783/10000 (98%)\n",
      "\n",
      "Train Epoch: 6 [0/60000 (0%)]\tLoss: 0.048274\n",
      "Train Epoch: 6 [6400/60000 (11%)]\tLoss: 0.152849\n",
      "Train Epoch: 6 [12800/60000 (21%)]\tLoss: 0.176242\n",
      "Train Epoch: 6 [19200/60000 (32%)]\tLoss: 0.110704\n",
      "Train Epoch: 6 [25600/60000 (43%)]\tLoss: 0.050921\n",
      "Train Epoch: 6 [32000/60000 (53%)]\tLoss: 0.030472\n",
      "Train Epoch: 6 [38400/60000 (64%)]\tLoss: 0.054072\n",
      "Train Epoch: 6 [44800/60000 (75%)]\tLoss: 0.020817\n",
      "Train Epoch: 6 [51200/60000 (85%)]\tLoss: 0.190554\n",
      "Train Epoch: 6 [57600/60000 (96%)]\tLoss: 0.037296\n",
      "\n",
      "Test set: Average loss: 0.0535, Accuracy: 9819/10000 (98%)\n",
      "\n",
      "Train Epoch: 7 [0/60000 (0%)]\tLoss: 0.017128\n",
      "Train Epoch: 7 [6400/60000 (11%)]\tLoss: 0.051197\n",
      "Train Epoch: 7 [12800/60000 (21%)]\tLoss: 0.080599\n",
      "Train Epoch: 7 [19200/60000 (32%)]\tLoss: 0.063906\n",
      "Train Epoch: 7 [25600/60000 (43%)]\tLoss: 0.037184\n",
      "Train Epoch: 7 [32000/60000 (53%)]\tLoss: 0.031580\n",
      "Train Epoch: 7 [38400/60000 (64%)]\tLoss: 0.029652\n",
      "Train Epoch: 7 [44800/60000 (75%)]\tLoss: 0.125883\n",
      "Train Epoch: 7 [51200/60000 (85%)]\tLoss: 0.085359\n",
      "Train Epoch: 7 [57600/60000 (96%)]\tLoss: 0.038000\n",
      "\n",
      "Test set: Average loss: 0.0487, Accuracy: 9844/10000 (98%)\n",
      "\n",
      "Train Epoch: 8 [0/60000 (0%)]\tLoss: 0.023116\n",
      "Train Epoch: 8 [6400/60000 (11%)]\tLoss: 0.028271\n",
      "Train Epoch: 8 [12800/60000 (21%)]\tLoss: 0.214682\n",
      "Train Epoch: 8 [19200/60000 (32%)]\tLoss: 0.064275\n",
      "Train Epoch: 8 [25600/60000 (43%)]\tLoss: 0.085967\n",
      "Train Epoch: 8 [32000/60000 (53%)]\tLoss: 0.072767\n",
      "Train Epoch: 8 [38400/60000 (64%)]\tLoss: 0.089148\n",
      "Train Epoch: 8 [44800/60000 (75%)]\tLoss: 0.031018\n",
      "Train Epoch: 8 [51200/60000 (85%)]\tLoss: 0.024106\n",
      "Train Epoch: 8 [57600/60000 (96%)]\tLoss: 0.172892\n",
      "\n",
      "Test set: Average loss: 0.0483, Accuracy: 9855/10000 (99%)\n",
      "\n",
      "Train Epoch: 9 [0/60000 (0%)]\tLoss: 0.012097\n",
      "Train Epoch: 9 [6400/60000 (11%)]\tLoss: 0.062160\n",
      "Train Epoch: 9 [12800/60000 (21%)]\tLoss: 0.047245\n",
      "Train Epoch: 9 [19200/60000 (32%)]\tLoss: 0.024590\n",
      "Train Epoch: 9 [25600/60000 (43%)]\tLoss: 0.033907\n",
      "Train Epoch: 9 [32000/60000 (53%)]\tLoss: 0.102190\n",
      "Train Epoch: 9 [38400/60000 (64%)]\tLoss: 0.005953\n",
      "Train Epoch: 9 [44800/60000 (75%)]\tLoss: 0.011924\n",
      "Train Epoch: 9 [51200/60000 (85%)]\tLoss: 0.039972\n"
     ]
    }
   ],
   "source": [
    "for epoch in range(1, 10):\n",
    "    train(epoch)\n",
    "    test()"
   ]
  }
 ],
 "metadata": {
  "kernelspec": {
   "display_name": "Python 3",
   "language": "python",
   "name": "python3"
  },
  "language_info": {
   "codemirror_mode": {
    "name": "ipython",
    "version": 3
   },
   "file_extension": ".py",
   "mimetype": "text/x-python",
   "name": "python",
   "nbconvert_exporter": "python",
   "pygments_lexer": "ipython3",
   "version": "3.6.2"
  }
 },
 "nbformat": 4,
 "nbformat_minor": 2
}
