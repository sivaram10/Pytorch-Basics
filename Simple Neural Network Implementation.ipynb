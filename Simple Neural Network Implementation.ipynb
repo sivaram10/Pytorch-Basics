{
 "cells": [
  {
   "cell_type": "markdown",
   "metadata": {},
   "source": [
    "### Simple neural network implementation in Numpy"
   ]
  },
  {
   "cell_type": "code",
   "execution_count": 1,
   "metadata": {},
   "outputs": [],
   "source": [
    "import numpy as np\n",
    "\n",
    "N = 64 # batch_size\n",
    "input_dimensions = 500\n",
    "hidden_neurons = 100\n",
    "output_dimensions = 10\n",
    "\n",
    "#Creating random input data\n",
    "x = np.random.randn(N, input_dimensions)\n",
    "y = np.random.randn(N, output_dimensions)\n",
    "\n",
    "#Intializing random weights\n",
    "w1 = np.random.randn(input_dimensions, hidden_neurons)\n",
    "w2 = np.random.randn(hidden_neurons, output_dimensions)\n",
    "\n",
    "learning_rate = 0.000001\n",
    "\n",
    "for epoch in range(1000):\n",
    "    #Forward pass to compute y\n",
    "    h = x.dot(w1)\n",
    "    h_relu = np.maximum(h, 0)\n",
    "    y_predict = h_relu.dot(w2)\n",
    "    \n",
    "    \n",
    "    #Compute loss (mean squared error)\n",
    "    loss = np.square(y_predict - y).sum()\n",
    "    #print(\"epoch: \",epoch, \" loss: \",loss)\n",
    "    \n",
    "    #Backprop to compute weights and loss\n",
    "    #These can be calculated on the loss function for simple networks. But it gets really difficult to calculate thse\n",
    "    #for networds with more than 4 layers or networks with complex structure\n",
    "    grad_y_predict = 2.0 * (y_predict - y)\n",
    "    grad_w2 = h_relu.T.dot(grad_y_predict)\n",
    "    grad_h_relu = grad_y_predict.dot(w2.T)\n",
    "    grad_h = grad_h_relu.copy()\n",
    "    grad_h[h < 0] = 0\n",
    "    grad_w1 = x.T.dot(grad_h)\n",
    "    \n",
    "    #Updating weights\n",
    "    w1 = w1 - learning_rate * grad_w1\n",
    "    w2 = w2 - learning_rate * grad_w2"
   ]
  },
  {
   "cell_type": "code",
   "execution_count": 2,
   "metadata": {},
   "outputs": [],
   "source": [
    "import torch\n",
    "\n",
    "\n",
    "N = 64 # batch_size\n",
    "input_dimensions = 500\n",
    "hidden_neurons = 100\n",
    "output_dimensions = 10\n",
    "\n",
    "#Creating random input data\n",
    "x = torch.randn(N, input_dimensions).type(torch.FloatTensor)\n",
    "y = torch.randn(N, output_dimensions).type(torch.FloatTensor)\n",
    "\n",
    "#Intializing random weights\n",
    "w1 = torch.randn(input_dimensions, hidden_neurons).type(torch.FloatTensor)\n",
    "w2 = torch.randn(hidden_neurons, output_dimensions).type(torch.FloatTensor)\n",
    "\n",
    "learning_rate = 0.000001\n",
    "\n",
    "for epoch in range(1000):\n",
    "    #Forward pass to compute y\n",
    "    h = x.mm(w1)\n",
    "    h_relu = h.clamp(min=0)\n",
    "    y_predict = h_relu.mm(w2)\n",
    "    \n",
    "    \n",
    "    #Compute loss (mean squared error)\n",
    "    loss = (y_predict - y).pow(2).sum()\n",
    "    #print(\"epoch: \",epoch, \" loss: \",loss)\n",
    "    \n",
    "    #Backprop to compute weights and loss\n",
    "    #These can be calculated on the loss function for simple networks. But it gets really difficult to calculate thse\n",
    "    #for networds with more than 4 layers or networks with complex structure\n",
    "    grad_y_predict = 2.0 * (y_predict - y)\n",
    "    grad_w2 = h_relu.t().mm(grad_y_predict)\n",
    "    grad_h_relu = grad_y_predict.mm(w2.t())\n",
    "    grad_h = grad_h_relu.clone()\n",
    "    grad_h[h < 0] = 0\n",
    "    grad_w1 = x.t().mm(grad_h)\n",
    "    \n",
    "    #Updating weights\n",
    "    w1 = w1 - learning_rate * grad_w1\n",
    "    w2 = w2 - learning_rate * grad_w2"
   ]
  },
  {
   "cell_type": "code",
   "execution_count": null,
   "metadata": {
    "collapsed": true
   },
   "outputs": [],
   "source": []
  }
 ],
 "metadata": {
  "kernelspec": {
   "display_name": "Python 3",
   "language": "python",
   "name": "python3"
  },
  "language_info": {
   "codemirror_mode": {
    "name": "ipython",
    "version": 3
   },
   "file_extension": ".py",
   "mimetype": "text/x-python",
   "name": "python",
   "nbconvert_exporter": "python",
   "pygments_lexer": "ipython3",
   "version": "3.6.2"
  }
 },
 "nbformat": 4,
 "nbformat_minor": 2
}
