{
 "cells": [
  {
   "cell_type": "code",
   "execution_count": 1,
   "metadata": {
    "collapsed": true
   },
   "outputs": [],
   "source": [
    "from __future__ import print_function\n",
    "import torch\n",
    "from torchvision import datasets, transforms\n",
    "from torch.autograd import Variable\n",
    "import argparse\n",
    "import matplotlib.pyplot as plt"
   ]
  },
  {
   "cell_type": "code",
   "execution_count": 2,
   "metadata": {
    "collapsed": true
   },
   "outputs": [],
   "source": [
    "batch_size = 64"
   ]
  },
  {
   "cell_type": "code",
   "execution_count": 3,
   "metadata": {},
   "outputs": [],
   "source": [
    "train_dataset = datasets.MNIST(root = './mnist_data/',\n",
    "                              train = True,\n",
    "                              transform=transforms.ToTensor())"
   ]
  },
  {
   "cell_type": "code",
   "execution_count": 4,
   "metadata": {
    "collapsed": true
   },
   "outputs": [],
   "source": [
    "test_dataset = datasets.MNIST(root = './mnist_data/',\n",
    "                              train = False,\n",
    "                              transform=transforms.ToTensor())"
   ]
  },
  {
   "cell_type": "code",
   "execution_count": 5,
   "metadata": {},
   "outputs": [
    {
     "data": {
      "image/png": "[encoded data removed]",
      "text/plain": [
       "<matplotlib.figure.Figure at 0x27e79ac9240>"
      ]
     },
     "metadata": {},
     "output_type": "display_data"
    }
   ],
   "source": [
    "plt.imshow(train_dataset[3][0][0].numpy())\n",
    "plt.show()"
   ]
  },
  {
   "cell_type": "code",
   "execution_count": 6,
   "metadata": {
    "collapsed": true
   },
   "outputs": [],
   "source": [
    "train_loader = torch.utils.data.DataLoader(dataset=train_dataset,\n",
    "                                          batch_size=batch_size,\n",
    "                                          shuffle=True)"
   ]
  },
  {
   "cell_type": "code",
   "execution_count": 7,
   "metadata": {
    "collapsed": true
   },
   "outputs": [],
   "source": [
    "test_loader = torch.utils.data.DataLoader(dataset=test_dataset,\n",
    "                                         batch_size=batch_size,\n",
    "                                         shuffle=False)"
   ]
  },
  {
   "cell_type": "code",
   "execution_count": 8,
   "metadata": {
    "collapsed": true
   },
   "outputs": [],
   "source": [
    "class CNN(torch.nn.Module):\n",
    "    \n",
    "    def __init__(self):\n",
    "        super(CNN, self).__init__()\n",
    "        self.conv1 = torch.nn.Conv2d(in_channels=1, out_channels=10, kernel_size=5)\n",
    "        self.conv2 = torch.nn.Conv2d(in_channels=10, out_channels=20, kernel_size=5)\n",
    "        self.mp = torch.nn.MaxPool2d(2)\n",
    "        self.fc = torch.nn.Linear(320, 10)\n",
    "        \n",
    "    def forward(self, x):\n",
    "        in_size = x.size(0)\n",
    "        x = torch.nn.functional.relu(self.mp(self.conv1(x)))\n",
    "        x = torch.nn.functional.relu(self.mp(self.conv2(x)))\n",
    "        x = x.view(in_size, -1)\n",
    "        x = self.fc(x)\n",
    "        return torch.nn.functional.log_softmax(x)"
   ]
  },
  {
   "cell_type": "code",
   "execution_count": 9,
   "metadata": {
    "collapsed": true
   },
   "outputs": [],
   "source": [
    "model = CNN()"
   ]
  },
  {
   "cell_type": "code",
   "execution_count": 10,
   "metadata": {
    "collapsed": true
   },
   "outputs": [],
   "source": [
    "optimizer = torch.optim.SGD(model.parameters(), lr=0.01, momentum=0.5)"
   ]
  },
  {
   "cell_type": "code",
   "execution_count": 11,
   "metadata": {},
   "outputs": [],
   "source": [
    "def train(epoch):\n",
    "    model.train()\n",
    "    for batch_idx, (data, target) in enumerate(train_loader):\n",
    "        data, target = Variable(data), Variable(target)\n",
    "        optimizer.zero_grad()\n",
    "        output = model(data)\n",
    "        loss = torch.nn.functional.nll_loss(output, target)\n",
    "        loss.backward()\n",
    "        optimizer.step()\n",
    "        if batch_idx % 100 == 0:\n",
    "            print('Train Epoch: {} [{}/{} ({:.0f}%)]\\tLoss: {:.6f}'.format(\n",
    "                epoch, batch_idx * len(data), len(train_loader.dataset),\n",
    "                100. * batch_idx / len(train_loader), loss.data[0]))"
   ]
  },
  {
   "cell_type": "code",
   "execution_count": null,
   "metadata": {
    "collapsed": true
   },
   "outputs": [],
   "source": [
    "def test():\n",
    "    model.eval()\n",
    "    test_loss = 0\n",
    "    correct = 0\n",
    "    for data, target in test_loader:\n",
    "        data, target = Variable(data, volatile=True), Variable(target)\n",
    "        output = model(data)\n",
    "        test_loss += torch.nn.functional.nll_loss(output, target, size_average=False).data[0]\n",
    "        pred = output.data.max(1, keepdim=True)[1]\n",
    "        correct += pred.eq(target.data.view_as(pred)).cpu().sum()\n",
    "        \n",
    "    test_loss /= len(test_loader.dataset)\n",
    "    print('\\nTest set: Average loss: {:.4f}, Accuracy: {}/{} ({:.0f}%)\\n'.format(\n",
    "    test_loss, correct, len(test_loader.dataset),\n",
    "        100. * correct / len(test_loader.dataset)))"
   ]
  },
  {
   "cell_type": "code",
   "execution_count": null,
   "metadata": {},
   "outputs": [
    {
     "name": "stdout",
     "output_type": "stream",
     "text": [
      "Train Epoch: 1 [0/60000 (0%)]\tLoss: 2.277719\n",
      "Train Epoch: 1 [6400/60000 (11%)]\tLoss: 1.793278\n",
      "Train Epoch: 1 [12800/60000 (21%)]\tLoss: 0.439368\n",
      "Train Epoch: 1 [19200/60000 (32%)]\tLoss: 0.290818\n",
      "Train Epoch: 1 [25600/60000 (43%)]\tLoss: 0.293974\n",
      "Train Epoch: 1 [32000/60000 (53%)]\tLoss: 0.269227\n",
      "Train Epoch: 1 [38400/60000 (64%)]\tLoss: 0.432867\n",
      "Train Epoch: 1 [44800/60000 (75%)]\tLoss: 0.243745\n",
      "Train Epoch: 1 [51200/60000 (85%)]\tLoss: 0.105562\n",
      "Train Epoch: 1 [57600/60000 (96%)]\tLoss: 0.391991\n",
      "\n",
      "Test set: Average loss: 0.1980, Accuracy: 9408/10000 (94%)\n",
      "\n",
      "Train Epoch: 2 [0/60000 (0%)]\tLoss: 0.203180\n",
      "Train Epoch: 2 [6400/60000 (11%)]\tLoss: 0.181758\n",
      "Train Epoch: 2 [12800/60000 (21%)]\tLoss: 0.105834\n",
      "Train Epoch: 2 [19200/60000 (32%)]\tLoss: 0.061727\n",
      "Train Epoch: 2 [25600/60000 (43%)]\tLoss: 0.201929\n",
      "Train Epoch: 2 [32000/60000 (53%)]\tLoss: 0.123346\n",
      "Train Epoch: 2 [38400/60000 (64%)]\tLoss: 0.083959\n",
      "Train Epoch: 2 [44800/60000 (75%)]\tLoss: 0.222035\n",
      "Train Epoch: 2 [51200/60000 (85%)]\tLoss: 0.175176\n",
      "Train Epoch: 2 [57600/60000 (96%)]\tLoss: 0.061598\n",
      "\n",
      "Test set: Average loss: 0.1119, Accuracy: 9658/10000 (97%)\n",
      "\n",
      "Train Epoch: 3 [0/60000 (0%)]\tLoss: 0.128151\n",
      "Train Epoch: 3 [6400/60000 (11%)]\tLoss: 0.187926\n",
      "Train Epoch: 3 [12800/60000 (21%)]\tLoss: 0.027567\n",
      "Train Epoch: 3 [19200/60000 (32%)]\tLoss: 0.265783\n",
      "Train Epoch: 3 [25600/60000 (43%)]\tLoss: 0.079826\n",
      "Train Epoch: 3 [32000/60000 (53%)]\tLoss: 0.069976\n",
      "Train Epoch: 3 [38400/60000 (64%)]\tLoss: 0.076415\n",
      "Train Epoch: 3 [44800/60000 (75%)]\tLoss: 0.369917\n",
      "Train Epoch: 3 [51200/60000 (85%)]\tLoss: 0.059885\n",
      "Train Epoch: 3 [57600/60000 (96%)]\tLoss: 0.084149\n",
      "\n",
      "Test set: Average loss: 0.0984, Accuracy: 9712/10000 (97%)\n",
      "\n",
      "Train Epoch: 4 [0/60000 (0%)]\tLoss: 0.028056\n",
      "Train Epoch: 4 [6400/60000 (11%)]\tLoss: 0.052542\n",
      "Train Epoch: 4 [12800/60000 (21%)]\tLoss: 0.068284\n",
      "Train Epoch: 4 [19200/60000 (32%)]\tLoss: 0.154460\n",
      "Train Epoch: 4 [25600/60000 (43%)]\tLoss: 0.051290\n",
      "Train Epoch: 4 [32000/60000 (53%)]\tLoss: 0.045083\n",
      "Train Epoch: 4 [38400/60000 (64%)]\tLoss: 0.096818\n",
      "Train Epoch: 4 [44800/60000 (75%)]\tLoss: 0.127076\n",
      "Train Epoch: 4 [51200/60000 (85%)]\tLoss: 0.220146\n",
      "Train Epoch: 4 [57600/60000 (96%)]\tLoss: 0.069502\n",
      "\n",
      "Test set: Average loss: 0.0844, Accuracy: 9732/10000 (97%)\n",
      "\n",
      "Train Epoch: 5 [0/60000 (0%)]\tLoss: 0.061431\n",
      "Train Epoch: 5 [6400/60000 (11%)]\tLoss: 0.154770\n",
      "Train Epoch: 5 [12800/60000 (21%)]\tLoss: 0.028520\n",
      "Train Epoch: 5 [19200/60000 (32%)]\tLoss: 0.110754\n",
      "Train Epoch: 5 [25600/60000 (43%)]\tLoss: 0.230488\n",
      "Train Epoch: 5 [32000/60000 (53%)]\tLoss: 0.047617\n",
      "Train Epoch: 5 [38400/60000 (64%)]\tLoss: 0.017816\n",
      "Train Epoch: 5 [44800/60000 (75%)]\tLoss: 0.052296\n",
      "Train Epoch: 5 [51200/60000 (85%)]\tLoss: 0.014839\n",
      "Train Epoch: 5 [57600/60000 (96%)]\tLoss: 0.014316\n",
      "\n",
      "Test set: Average loss: 0.0701, Accuracy: 9793/10000 (98%)\n",
      "\n",
      "Train Epoch: 6 [0/60000 (0%)]\tLoss: 0.117068\n",
      "Train Epoch: 6 [6400/60000 (11%)]\tLoss: 0.016959\n",
      "Train Epoch: 6 [12800/60000 (21%)]\tLoss: 0.128865\n",
      "Train Epoch: 6 [19200/60000 (32%)]\tLoss: 0.144445\n",
      "Train Epoch: 6 [25600/60000 (43%)]\tLoss: 0.065548\n",
      "Train Epoch: 6 [32000/60000 (53%)]\tLoss: 0.030494\n",
      "Train Epoch: 6 [38400/60000 (64%)]\tLoss: 0.067272\n",
      "Train Epoch: 6 [44800/60000 (75%)]\tLoss: 0.081319\n",
      "Train Epoch: 6 [51200/60000 (85%)]\tLoss: 0.026294\n",
      "Train Epoch: 6 [57600/60000 (96%)]\tLoss: 0.086069\n",
      "\n",
      "Test set: Average loss: 0.0647, Accuracy: 9797/10000 (98%)\n",
      "\n",
      "Train Epoch: 7 [0/60000 (0%)]\tLoss: 0.052451\n",
      "Train Epoch: 7 [6400/60000 (11%)]\tLoss: 0.096408\n",
      "Train Epoch: 7 [12800/60000 (21%)]\tLoss: 0.059097\n",
      "Train Epoch: 7 [19200/60000 (32%)]\tLoss: 0.067258\n",
      "Train Epoch: 7 [25600/60000 (43%)]\tLoss: 0.023078\n",
      "Train Epoch: 7 [32000/60000 (53%)]\tLoss: 0.045595\n",
      "Train Epoch: 7 [38400/60000 (64%)]\tLoss: 0.020729\n",
      "Train Epoch: 7 [44800/60000 (75%)]\tLoss: 0.174814\n",
      "Train Epoch: 7 [51200/60000 (85%)]\tLoss: 0.149151\n",
      "Train Epoch: 7 [57600/60000 (96%)]\tLoss: 0.035593\n",
      "\n",
      "Test set: Average loss: 0.0630, Accuracy: 9791/10000 (98%)\n",
      "\n",
      "Train Epoch: 8 [0/60000 (0%)]\tLoss: 0.101499\n",
      "Train Epoch: 8 [6400/60000 (11%)]\tLoss: 0.018079\n",
      "Train Epoch: 8 [12800/60000 (21%)]\tLoss: 0.029353\n",
      "Train Epoch: 8 [19200/60000 (32%)]\tLoss: 0.016222\n",
      "Train Epoch: 8 [25600/60000 (43%)]\tLoss: 0.028356\n",
      "Train Epoch: 8 [32000/60000 (53%)]\tLoss: 0.024113\n",
      "Train Epoch: 8 [38400/60000 (64%)]\tLoss: 0.006185\n",
      "Train Epoch: 8 [44800/60000 (75%)]\tLoss: 0.053379\n",
      "Train Epoch: 8 [51200/60000 (85%)]\tLoss: 0.063998\n",
      "Train Epoch: 8 [57600/60000 (96%)]\tLoss: 0.048201\n"
     ]
    }
   ],
   "source": [
    "for epoch in range(1, 10):\n",
    "    train(epoch)\n",
    "    test()"
   ]
  },
  {
   "cell_type": "code",
   "execution_count": null,
   "metadata": {},
   "outputs": [],
   "source": [
    "plt.imshow(test_dataset[1][0][0].numpy())\n",
    "plt.show()"
   ]
  },
  {
   "cell_type": "code",
   "execution_count": null,
   "metadata": {},
   "outputs": [],
   "source": [
    "test_dataset[1][1]"
   ]
  }
 ],
 "metadata": {
  "kernelspec": {
   "display_name": "Python 3",
   "language": "python",
   "name": "python3"
  },
  "language_info": {
   "codemirror_mode": {
    "name": "ipython",
    "version": 3
   },
   "file_extension": ".py",
   "mimetype": "text/x-python",
   "name": "python",
   "nbconvert_exporter": "python",
   "pygments_lexer": "ipython3",
   "version": "3.6.2"
  }
 },
 "nbformat": 4,
 "nbformat_minor": 2
}
